{
  "cells": [
    {
      "cell_type": "markdown",
      "metadata": {
        "colab_type": "text",
        "id": "view-in-github"
      },
      "source": [
        "<a href=\"https://colab.research.google.com/github/mieramensatu/Data-mining/blob/main/Student_Performance.ipynb\" target=\"_parent\"><img src=\"https://colab.research.google.com/assets/colab-badge.svg\" alt=\"Open In Colab\"/></a>"
      ]
    },
    {
      "cell_type": "code",
      "execution_count": 27,
      "metadata": {
        "id": "56D_pUQI-_SL"
      },
      "outputs": [],
      "source": [
        "import pandas as pd\n",
        "import seaborn as sns\n",
        "import matplotlib.pyplot as plt"
      ]
    },
    {
      "cell_type": "code",
      "execution_count": 28,
      "metadata": {
        "colab": {
          "base_uri": "https://localhost:8080/",
          "height": 275
        },
        "id": "vqrBO87WAA-m",
        "outputId": "8e153a2c-ddf7-48b7-b071-e5b3179f2324"
      },
      "outputs": [
        {
          "data": {
            "text/html": [
              "<div>\n",
              "<style scoped>\n",
              "    .dataframe tbody tr th:only-of-type {\n",
              "        vertical-align: middle;\n",
              "    }\n",
              "\n",
              "    .dataframe tbody tr th {\n",
              "        vertical-align: top;\n",
              "    }\n",
              "\n",
              "    .dataframe thead th {\n",
              "        text-align: right;\n",
              "    }\n",
              "</style>\n",
              "<table border=\"1\" class=\"dataframe\">\n",
              "  <thead>\n",
              "    <tr style=\"text-align: right;\">\n",
              "      <th></th>\n",
              "      <th>Student ID</th>\n",
              "      <th>Study Hours per Week</th>\n",
              "      <th>Attendance Rate</th>\n",
              "      <th>Previous Grades</th>\n",
              "      <th>Participation in Extracurricular Activities</th>\n",
              "      <th>Parent Education Level</th>\n",
              "      <th>Passed</th>\n",
              "    </tr>\n",
              "  </thead>\n",
              "  <tbody>\n",
              "    <tr>\n",
              "      <th>0</th>\n",
              "      <td>S00001</td>\n",
              "      <td>12.5</td>\n",
              "      <td>NaN</td>\n",
              "      <td>75.0</td>\n",
              "      <td>Yes</td>\n",
              "      <td>Master</td>\n",
              "      <td>Yes</td>\n",
              "    </tr>\n",
              "    <tr>\n",
              "      <th>1</th>\n",
              "      <td>S00002</td>\n",
              "      <td>9.3</td>\n",
              "      <td>95.3</td>\n",
              "      <td>60.6</td>\n",
              "      <td>No</td>\n",
              "      <td>High School</td>\n",
              "      <td>No</td>\n",
              "    </tr>\n",
              "    <tr>\n",
              "      <th>2</th>\n",
              "      <td>S00003</td>\n",
              "      <td>13.2</td>\n",
              "      <td>NaN</td>\n",
              "      <td>64.0</td>\n",
              "      <td>No</td>\n",
              "      <td>Associate</td>\n",
              "      <td>No</td>\n",
              "    </tr>\n",
              "    <tr>\n",
              "      <th>3</th>\n",
              "      <td>S00004</td>\n",
              "      <td>17.6</td>\n",
              "      <td>76.8</td>\n",
              "      <td>62.4</td>\n",
              "      <td>Yes</td>\n",
              "      <td>Bachelor</td>\n",
              "      <td>No</td>\n",
              "    </tr>\n",
              "    <tr>\n",
              "      <th>4</th>\n",
              "      <td>S00005</td>\n",
              "      <td>8.8</td>\n",
              "      <td>89.3</td>\n",
              "      <td>72.7</td>\n",
              "      <td>No</td>\n",
              "      <td>Master</td>\n",
              "      <td>No</td>\n",
              "    </tr>\n",
              "  </tbody>\n",
              "</table>\n",
              "</div>"
            ],
            "text/plain": [
              "  Student ID  Study Hours per Week  Attendance Rate  Previous Grades  \\\n",
              "0     S00001                  12.5              NaN             75.0   \n",
              "1     S00002                   9.3             95.3             60.6   \n",
              "2     S00003                  13.2              NaN             64.0   \n",
              "3     S00004                  17.6             76.8             62.4   \n",
              "4     S00005                   8.8             89.3             72.7   \n",
              "\n",
              "  Participation in Extracurricular Activities Parent Education Level Passed  \n",
              "0                                         Yes                 Master    Yes  \n",
              "1                                          No            High School     No  \n",
              "2                                          No              Associate     No  \n",
              "3                                         Yes               Bachelor     No  \n",
              "4                                          No                 Master     No  "
            ]
          },
          "execution_count": 28,
          "metadata": {},
          "output_type": "execute_result"
        }
      ],
      "source": [
        "df = pd.read_csv('../Dataset/student_performance_prediction.csv')\n",
        "df.head()"
      ]
    },
    {
      "cell_type": "code",
      "execution_count": 29,
      "metadata": {
        "colab": {
          "base_uri": "https://localhost:8080/"
        },
        "id": "fXEBKggYAEr8",
        "outputId": "1c528a8b-f444-4290-92ed-691e5bb096a3"
      },
      "outputs": [
        {
          "name": "stdout",
          "output_type": "stream",
          "text": [
            "<class 'pandas.core.frame.DataFrame'>\n",
            "RangeIndex: 40000 entries, 0 to 39999\n",
            "Data columns (total 7 columns):\n",
            " #   Column                                       Non-Null Count  Dtype  \n",
            "---  ------                                       --------------  -----  \n",
            " 0   Student ID                                   40000 non-null  object \n",
            " 1   Study Hours per Week                         38005 non-null  float64\n",
            " 2   Attendance Rate                              38008 non-null  float64\n",
            " 3   Previous Grades                              38006 non-null  float64\n",
            " 4   Participation in Extracurricular Activities  38000 non-null  object \n",
            " 5   Parent Education Level                       38000 non-null  object \n",
            " 6   Passed                                       38000 non-null  object \n",
            "dtypes: float64(3), object(4)\n",
            "memory usage: 2.1+ MB\n"
          ]
        }
      ],
      "source": [
        "df.info()"
      ]
    },
    {
      "cell_type": "code",
      "execution_count": 30,
      "metadata": {
        "colab": {
          "base_uri": "https://localhost:8080/",
          "height": 300
        },
        "id": "-cXnxWyNAZk9",
        "outputId": "71bf1b63-3fb7-4b00-f168-2bf7223886c4"
      },
      "outputs": [
        {
          "data": {
            "text/html": [
              "<div>\n",
              "<style scoped>\n",
              "    .dataframe tbody tr th:only-of-type {\n",
              "        vertical-align: middle;\n",
              "    }\n",
              "\n",
              "    .dataframe tbody tr th {\n",
              "        vertical-align: top;\n",
              "    }\n",
              "\n",
              "    .dataframe thead th {\n",
              "        text-align: right;\n",
              "    }\n",
              "</style>\n",
              "<table border=\"1\" class=\"dataframe\">\n",
              "  <thead>\n",
              "    <tr style=\"text-align: right;\">\n",
              "      <th></th>\n",
              "      <th>Study Hours per Week</th>\n",
              "      <th>Attendance Rate</th>\n",
              "      <th>Previous Grades</th>\n",
              "    </tr>\n",
              "  </thead>\n",
              "  <tbody>\n",
              "    <tr>\n",
              "      <th>count</th>\n",
              "      <td>38005.000000</td>\n",
              "      <td>38008.000000</td>\n",
              "      <td>38006.000000</td>\n",
              "    </tr>\n",
              "    <tr>\n",
              "      <th>mean</th>\n",
              "      <td>9.962744</td>\n",
              "      <td>75.276323</td>\n",
              "      <td>65.440107</td>\n",
              "    </tr>\n",
              "    <tr>\n",
              "      <th>std</th>\n",
              "      <td>5.031154</td>\n",
              "      <td>20.393418</td>\n",
              "      <td>16.503119</td>\n",
              "    </tr>\n",
              "    <tr>\n",
              "      <th>min</th>\n",
              "      <td>-12.300000</td>\n",
              "      <td>-14.300000</td>\n",
              "      <td>8.300000</td>\n",
              "    </tr>\n",
              "    <tr>\n",
              "      <th>25%</th>\n",
              "      <td>6.600000</td>\n",
              "      <td>61.600000</td>\n",
              "      <td>55.100000</td>\n",
              "    </tr>\n",
              "    <tr>\n",
              "      <th>50%</th>\n",
              "      <td>10.000000</td>\n",
              "      <td>75.300000</td>\n",
              "      <td>65.200000</td>\n",
              "    </tr>\n",
              "    <tr>\n",
              "      <th>75%</th>\n",
              "      <td>13.400000</td>\n",
              "      <td>88.800000</td>\n",
              "      <td>75.200000</td>\n",
              "    </tr>\n",
              "    <tr>\n",
              "      <th>max</th>\n",
              "      <td>32.400000</td>\n",
              "      <td>150.200000</td>\n",
              "      <td>200.000000</td>\n",
              "    </tr>\n",
              "  </tbody>\n",
              "</table>\n",
              "</div>"
            ],
            "text/plain": [
              "       Study Hours per Week  Attendance Rate  Previous Grades\n",
              "count          38005.000000     38008.000000     38006.000000\n",
              "mean               9.962744        75.276323        65.440107\n",
              "std                5.031154        20.393418        16.503119\n",
              "min              -12.300000       -14.300000         8.300000\n",
              "25%                6.600000        61.600000        55.100000\n",
              "50%               10.000000        75.300000        65.200000\n",
              "75%               13.400000        88.800000        75.200000\n",
              "max               32.400000       150.200000       200.000000"
            ]
          },
          "execution_count": 30,
          "metadata": {},
          "output_type": "execute_result"
        }
      ],
      "source": [
        "df.describe()"
      ]
    },
    {
      "cell_type": "code",
      "execution_count": 31,
      "metadata": {
        "colab": {
          "base_uri": "https://localhost:8080/"
        },
        "id": "bEd9ywTsClcX",
        "outputId": "de6f2dd1-9c95-4f1a-ac74-706767c21427"
      },
      "outputs": [
        {
          "data": {
            "text/plain": [
              "(40000, 7)"
            ]
          },
          "execution_count": 31,
          "metadata": {},
          "output_type": "execute_result"
        }
      ],
      "source": [
        "df.shape"
      ]
    },
    {
      "cell_type": "code",
      "execution_count": 32,
      "metadata": {
        "colab": {
          "base_uri": "https://localhost:8080/",
          "height": 303
        },
        "id": "Uzx0GGxFAc1c",
        "outputId": "77b2a86a-17a1-4300-ca76-aa8c4411fe5c"
      },
      "outputs": [
        {
          "data": {
            "text/plain": [
              "Student ID                                        0\n",
              "Study Hours per Week                           1995\n",
              "Attendance Rate                                1992\n",
              "Previous Grades                                1994\n",
              "Participation in Extracurricular Activities    2000\n",
              "Parent Education Level                         2000\n",
              "Passed                                         2000\n",
              "dtype: int64"
            ]
          },
          "execution_count": 32,
          "metadata": {},
          "output_type": "execute_result"
        }
      ],
      "source": [
        "df.isnull().sum()"
      ]
    },
    {
      "cell_type": "code",
      "execution_count": 33,
      "metadata": {
        "colab": {
          "base_uri": "https://localhost:8080/"
        },
        "id": "F4IR8010B6bO",
        "outputId": "a29f0adf-fe66-40b9-fcb3-7a07ca289e80"
      },
      "outputs": [
        {
          "data": {
            "text/plain": [
              "Index(['Student ID', 'Study Hours per Week', 'Attendance Rate',\n",
              "       'Previous Grades', 'Participation in Extracurricular Activities',\n",
              "       'Parent Education Level', 'Passed'],\n",
              "      dtype='object')"
            ]
          },
          "execution_count": 33,
          "metadata": {},
          "output_type": "execute_result"
        }
      ],
      "source": [
        "df.columns"
      ]
    },
    {
      "cell_type": "code",
      "execution_count": 34,
      "metadata": {
        "colab": {
          "base_uri": "https://localhost:8080/",
          "height": 472
        },
        "id": "DYsZdrEUAgBu",
        "outputId": "747f7487-6fa2-4a3d-d17c-b00282eac9f5"
      },
      "outputs": [
        {
          "data": {
            "image/png": "[encoded data removed]",
            "text/plain": [
              "<Figure size 640x480 with 1 Axes>"
            ]
          },
          "metadata": {},
          "output_type": "display_data"
        }
      ],
      "source": [
        "sns.histplot(df['Previous Grades'], kde=True)\n",
        "plt.title('Distribusi Nilai Sebelumnya (Previous Grades)')\n",
        "plt.xlabel('Nilai')\n",
        "plt.ylabel('Jumlah Siswa')\n",
        "plt.show()"
      ]
    },
    {
      "cell_type": "code",
      "execution_count": 35,
      "metadata": {
        "id": "KwDb1ScEA98g"
      },
      "outputs": [],
      "source": [
        "def categorize(score):\n",
        "  if score >= 80:\n",
        "    return 'High'\n",
        "  elif score >= 60:\n",
        "    return 'Medium'\n",
        "  else:\n",
        "    return 'Low'"
      ]
    },
    {
      "cell_type": "code",
      "execution_count": 36,
      "metadata": {
        "colab": {
          "base_uri": "https://localhost:8080/",
          "height": 209
        },
        "id": "CyDWIwLlC9jp",
        "outputId": "60793593-1900-4fbd-bf61-3a1437609047"
      },
      "outputs": [
        {
          "data": {
            "text/plain": [
              "performance\n",
              "Medium    18030\n",
              "Low       15809\n",
              "High       6161\n",
              "Name: count, dtype: int64"
            ]
          },
          "execution_count": 36,
          "metadata": {},
          "output_type": "execute_result"
        }
      ],
      "source": [
        "df['performance'] = df['Previous Grades'].apply(categorize)\n",
        "df['performance'].value_counts()"
      ]
    },
    {
      "cell_type": "code",
      "execution_count": 37,
      "metadata": {
        "id": "EG9dLXW3DMKZ"
      },
      "outputs": [],
      "source": [
        "df.columns = df.columns.str.strip().str.lower().str.replace(\" \", \"_\")"
      ]
    },
    {
      "cell_type": "code",
      "execution_count": 38,
      "metadata": {
        "colab": {
          "base_uri": "https://localhost:8080/"
        },
        "id": "ECE9YPteDQAx",
        "outputId": "c70805b2-5c58-422e-ff3b-4875736d57f8"
      },
      "outputs": [
        {
          "data": {
            "text/plain": [
              "Index(['student_id', 'study_hours_per_week', 'attendance_rate',\n",
              "       'previous_grades', 'participation_in_extracurricular_activities',\n",
              "       'parent_education_level', 'passed', 'performance'],\n",
              "      dtype='object')"
            ]
          },
          "execution_count": 38,
          "metadata": {},
          "output_type": "execute_result"
        }
      ],
      "source": [
        "df.columns"
      ]
    },
    {
      "cell_type": "code",
      "execution_count": 39,
      "metadata": {
        "colab": {
          "base_uri": "https://localhost:8080/"
        },
        "id": "jmNdt-CMDQ8B",
        "outputId": "aa3eae14-0308-40e2-c54f-b3e6de0949e4"
      },
      "outputs": [
        {
          "name": "stderr",
          "output_type": "stream",
          "text": [
            "C:\\Users\\lenov\\AppData\\Local\\Temp\\ipykernel_6932\\3676676016.py:3: FutureWarning: A value is trying to be set on a copy of a DataFrame or Series through chained assignment using an inplace method.\n",
            "The behavior will change in pandas 3.0. This inplace method will never work because the intermediate object on which we are setting values always behaves as a copy.\n",
            "\n",
            "For example, when doing 'df[col].method(value, inplace=True)', try using 'df.method({col: value}, inplace=True)' or df[col] = df[col].method(value) instead, to perform the operation inplace on the original object.\n",
            "\n",
            "\n",
            "  df[col].fillna(df[col].median(), inplace=True)\n",
            "C:\\Users\\lenov\\AppData\\Local\\Temp\\ipykernel_6932\\3676676016.py:3: FutureWarning: A value is trying to be set on a copy of a DataFrame or Series through chained assignment using an inplace method.\n",
            "The behavior will change in pandas 3.0. This inplace method will never work because the intermediate object on which we are setting values always behaves as a copy.\n",
            "\n",
            "For example, when doing 'df[col].method(value, inplace=True)', try using 'df.method({col: value}, inplace=True)' or df[col] = df[col].method(value) instead, to perform the operation inplace on the original object.\n",
            "\n",
            "\n",
            "  df[col].fillna(df[col].median(), inplace=True)\n",
            "C:\\Users\\lenov\\AppData\\Local\\Temp\\ipykernel_6932\\3676676016.py:3: FutureWarning: A value is trying to be set on a copy of a DataFrame or Series through chained assignment using an inplace method.\n",
            "The behavior will change in pandas 3.0. This inplace method will never work because the intermediate object on which we are setting values always behaves as a copy.\n",
            "\n",
            "For example, when doing 'df[col].method(value, inplace=True)', try using 'df.method({col: value}, inplace=True)' or df[col] = df[col].method(value) instead, to perform the operation inplace on the original object.\n",
            "\n",
            "\n",
            "  df[col].fillna(df[col].median(), inplace=True)\n"
          ]
        }
      ],
      "source": [
        "num_cols = ['study_hours_per_week', 'attendance_rate', 'previous_grades']\n",
        "for col in num_cols:\n",
        "  df[col].fillna(df[col].median(), inplace=True)"
      ]
    },
    {
      "cell_type": "code",
      "execution_count": 40,
      "metadata": {
        "colab": {
          "base_uri": "https://localhost:8080/"
        },
        "id": "41uCz4bFETKb",
        "outputId": "4dad5d91-9c23-4853-8ccd-374c8743601b"
      },
      "outputs": [
        {
          "name": "stderr",
          "output_type": "stream",
          "text": [
            "C:\\Users\\lenov\\AppData\\Local\\Temp\\ipykernel_6932\\3899735159.py:3: FutureWarning: A value is trying to be set on a copy of a DataFrame or Series through chained assignment using an inplace method.\n",
            "The behavior will change in pandas 3.0. This inplace method will never work because the intermediate object on which we are setting values always behaves as a copy.\n",
            "\n",
            "For example, when doing 'df[col].method(value, inplace=True)', try using 'df.method({col: value}, inplace=True)' or df[col] = df[col].method(value) instead, to perform the operation inplace on the original object.\n",
            "\n",
            "\n",
            "  df[col].fillna(df[col].mode()[0], inplace=True)\n"
          ]
        }
      ],
      "source": [
        "cat_cols = ['participation_in_extracurricular_activities', 'parent_education_level', 'passed']\n",
        "for col in cat_cols:\n",
        "  df[col].fillna(df[col].mode()[0], inplace=True)"
      ]
    },
    {
      "cell_type": "code",
      "execution_count": 41,
      "metadata": {
        "colab": {
          "base_uri": "https://localhost:8080/",
          "height": 335
        },
        "id": "SbVaYY54EbVQ",
        "outputId": "096ce411-cf15-41c6-db07-baa17f97d588"
      },
      "outputs": [
        {
          "data": {
            "text/plain": [
              "student_id                                     0\n",
              "study_hours_per_week                           0\n",
              "attendance_rate                                0\n",
              "previous_grades                                0\n",
              "participation_in_extracurricular_activities    0\n",
              "parent_education_level                         0\n",
              "passed                                         0\n",
              "performance                                    0\n",
              "dtype: int64"
            ]
          },
          "execution_count": 41,
          "metadata": {},
          "output_type": "execute_result"
        }
      ],
      "source": [
        "df.isnull().sum()"
      ]
    },
    {
      "cell_type": "code",
      "execution_count": 42,
      "metadata": {
        "colab": {
          "base_uri": "https://localhost:8080/"
        },
        "id": "AmoNEhAkFMRG",
        "outputId": "4ea61b4a-649e-48fc-8300-3a8a159a8c11"
      },
      "outputs": [
        {
          "data": {
            "text/plain": [
              "Index(['student_id', 'study_hours_per_week', 'attendance_rate',\n",
              "       'previous_grades', 'participation_in_extracurricular_activities',\n",
              "       'parent_education_level', 'passed', 'performance'],\n",
              "      dtype='object')"
            ]
          },
          "execution_count": 42,
          "metadata": {},
          "output_type": "execute_result"
        }
      ],
      "source": [
        "df.columns"
      ]
    },
    {
      "cell_type": "code",
      "execution_count": 43,
      "metadata": {},
      "outputs": [],
      "source": [
        "df.to_csv('../Dataset/clean_student_data.csv', index=False)"
      ]
    }
  ],
  "metadata": {
    "colab": {
      "authorship_tag": "ABX9TyPiwSVc2FWysDCMFjiieR8Y",
      "include_colab_link": true,
      "provenance": []
    },
    "kernelspec": {
      "display_name": "Python 3",
      "name": "python3"
    },
    "language_info": {
      "codemirror_mode": {
        "name": "ipython",
        "version": 3
      },
      "file_extension": ".py",
      "mimetype": "text/x-python",
      "name": "python",
      "nbconvert_exporter": "python",
      "pygments_lexer": "ipython3",
      "version": "3.13.2"
    }
  },
  "nbformat": 4,
  "nbformat_minor": 0
}
